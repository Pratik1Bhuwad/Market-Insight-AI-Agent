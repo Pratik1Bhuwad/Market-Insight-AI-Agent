{
 "cells": [
  {
   "cell_type": "markdown",
   "id": "944f67d2",
   "metadata": {},
   "source": [
    "## Objective\n",
    "\n",
    " Accepts user questions in natural language.\n",
    "\n",
    "- Parses and understands data from a messy 85,000+ row dataset.\n",
    "\n",
    "- Reads additional context from board meeting PDF and market summary TXT.\n",
    "\n",
    "- Uses Gemini to generate business insights from combined data sources.\n",
    "\n",
    "- Deploys the chatbot using Streamlit locally or on the web."
   ]
  },
  {
   "cell_type": "markdown",
   "id": "a1df511e",
   "metadata": {},
   "source": [
    "---\n",
    "**Import Libraries**"
   ]
  },
  {
   "cell_type": "code",
   "execution_count": 1,
   "id": "233a5246",
   "metadata": {},
   "outputs": [],
   "source": [
    "import pandas as pd\n",
    "import numpy as np\n",
    "from datetime import datetime\n",
    "import PyPDF2\n",
    "import matplotlib.pyplot as plt\n",
    "import matplotlib.dates as mdates\n",
    "import seaborn as sns\n",
    "from pathlib import Path\n",
    "import warnings\n",
    "warnings.filterwarnings(\"ignore\")"
   ]
  },
  {
   "cell_type": "markdown",
   "id": "a0587479",
   "metadata": {},
   "source": [
    "---\n",
    "**Load Dataset**"
   ]
  },
  {
   "cell_type": "code",
   "execution_count": 2,
   "id": "93a22f45",
   "metadata": {},
   "outputs": [
    {
     "data": {
      "text/html": [
       "<div>\n",
       "<style scoped>\n",
       "    .dataframe tbody tr th:only-of-type {\n",
       "        vertical-align: middle;\n",
       "    }\n",
       "\n",
       "    .dataframe tbody tr th {\n",
       "        vertical-align: top;\n",
       "    }\n",
       "\n",
       "    .dataframe thead th {\n",
       "        text-align: right;\n",
       "    }\n",
       "</style>\n",
       "<table border=\"1\" class=\"dataframe\">\n",
       "  <thead>\n",
       "    <tr style=\"text-align: right;\">\n",
       "      <th></th>\n",
       "      <th>Order ID</th>\n",
       "      <th>Order Date</th>\n",
       "      <th>Customer Name</th>\n",
       "      <th>Product Category</th>\n",
       "      <th>Region</th>\n",
       "      <th>Sales Channel</th>\n",
       "      <th>Units Sold</th>\n",
       "      <th>Unit Price</th>\n",
       "      <th>Order Notes</th>\n",
       "      <th>Revenue</th>\n",
       "    </tr>\n",
       "  </thead>\n",
       "  <tbody>\n",
       "    <tr>\n",
       "      <th>0</th>\n",
       "      <td>1</td>\n",
       "      <td>2023-01-31</td>\n",
       "      <td>Sarah Wright</td>\n",
       "      <td>Groceries</td>\n",
       "      <td>North</td>\n",
       "      <td>Wholesale</td>\n",
       "      <td>69</td>\n",
       "      <td>4143</td>\n",
       "      <td>Rich vote represent black three conference tru...</td>\n",
       "      <td>285867</td>\n",
       "    </tr>\n",
       "    <tr>\n",
       "      <th>1</th>\n",
       "      <td>2</td>\n",
       "      <td>2023-12-30</td>\n",
       "      <td>Zoe Prince</td>\n",
       "      <td>Clothing</td>\n",
       "      <td>North</td>\n",
       "      <td>Online</td>\n",
       "      <td>54</td>\n",
       "      <td>2311</td>\n",
       "      <td>Today draw story Mrs few beyond thank serve sc...</td>\n",
       "      <td>124794</td>\n",
       "    </tr>\n",
       "    <tr>\n",
       "      <th>2</th>\n",
       "      <td>3</td>\n",
       "      <td>2022-05-10</td>\n",
       "      <td>David Waters</td>\n",
       "      <td>Furniture</td>\n",
       "      <td>North</td>\n",
       "      <td>Wholesale</td>\n",
       "      <td>56</td>\n",
       "      <td>2685</td>\n",
       "      <td>Man control movement exist society according w...</td>\n",
       "      <td>150360</td>\n",
       "    </tr>\n",
       "    <tr>\n",
       "      <th>3</th>\n",
       "      <td>4</td>\n",
       "      <td>2023-07-18</td>\n",
       "      <td>Keith Wilcox</td>\n",
       "      <td>Books</td>\n",
       "      <td>North</td>\n",
       "      <td>Retail</td>\n",
       "      <td>1</td>\n",
       "      <td>4391</td>\n",
       "      <td>Reach here oil receive piece able heavy reveal...</td>\n",
       "      <td>4391</td>\n",
       "    </tr>\n",
       "    <tr>\n",
       "      <th>4</th>\n",
       "      <td>5</td>\n",
       "      <td>2023-02-04</td>\n",
       "      <td>Robert Lester</td>\n",
       "      <td>Clothing</td>\n",
       "      <td>West</td>\n",
       "      <td>Online</td>\n",
       "      <td>59</td>\n",
       "      <td>1421</td>\n",
       "      <td>Right quality bill money idea city bit.</td>\n",
       "      <td>83839</td>\n",
       "    </tr>\n",
       "  </tbody>\n",
       "</table>\n",
       "</div>"
      ],
      "text/plain": [
       "   Order ID  Order Date  Customer Name Product Category Region Sales Channel  \\\n",
       "0         1  2023-01-31   Sarah Wright        Groceries  North     Wholesale   \n",
       "1         2  2023-12-30     Zoe Prince         Clothing  North        Online   \n",
       "2         3  2022-05-10   David Waters        Furniture  North     Wholesale   \n",
       "3         4  2023-07-18   Keith Wilcox            Books  North        Retail   \n",
       "4         5  2023-02-04  Robert Lester         Clothing   West        Online   \n",
       "\n",
       "   Units Sold  Unit Price                                        Order Notes  \\\n",
       "0          69        4143  Rich vote represent black three conference tru...   \n",
       "1          54        2311  Today draw story Mrs few beyond thank serve sc...   \n",
       "2          56        2685  Man control movement exist society according w...   \n",
       "3           1        4391  Reach here oil receive piece able heavy reveal...   \n",
       "4          59        1421            Right quality bill money idea city bit.   \n",
       "\n",
       "   Revenue  \n",
       "0   285867  \n",
       "1   124794  \n",
       "2   150360  \n",
       "3     4391  \n",
       "4    83839  "
      ]
     },
     "execution_count": 2,
     "metadata": {},
     "output_type": "execute_result"
    }
   ],
   "source": [
    "df=pd.read_csv('customer_orders.csv')\n",
    "df.head()"
   ]
  },
  {
   "cell_type": "code",
   "execution_count": 3,
   "id": "9b9a86ce",
   "metadata": {},
   "outputs": [
    {
     "name": "stdout",
     "output_type": "stream",
     "text": [
      "<class 'pandas.core.frame.DataFrame'>\n",
      "RangeIndex: 85000 entries, 0 to 84999\n",
      "Data columns (total 10 columns):\n",
      " #   Column            Non-Null Count  Dtype \n",
      "---  ------            --------------  ----- \n",
      " 0   Order ID          85000 non-null  int64 \n",
      " 1   Order Date        85000 non-null  object\n",
      " 2   Customer Name     84150 non-null  object\n",
      " 3   Product Category  84150 non-null  object\n",
      " 4   Region            84150 non-null  object\n",
      " 5   Sales Channel     85000 non-null  object\n",
      " 6   Units Sold        85000 non-null  int64 \n",
      " 7   Unit Price        85000 non-null  int64 \n",
      " 8   Order Notes       85000 non-null  object\n",
      " 9   Revenue           85000 non-null  int64 \n",
      "dtypes: int64(4), object(6)\n",
      "memory usage: 6.5+ MB\n"
     ]
    }
   ],
   "source": [
    "df.info()"
   ]
  },
  {
   "cell_type": "code",
   "execution_count": 4,
   "id": "62b41f9b",
   "metadata": {},
   "outputs": [
    {
     "data": {
      "text/plain": [
       "(85000, 10)"
      ]
     },
     "execution_count": 4,
     "metadata": {},
     "output_type": "execute_result"
    }
   ],
   "source": [
    "df.shape"
   ]
  },
  {
   "cell_type": "markdown",
   "id": "ce0cdf50",
   "metadata": {},
   "source": [
    "---\n",
    "**Handling missing values**"
   ]
  },
  {
   "cell_type": "code",
   "execution_count": 5,
   "id": "7dcf8b21",
   "metadata": {},
   "outputs": [
    {
     "data": {
      "text/plain": [
       "Order ID              0\n",
       "Order Date            0\n",
       "Customer Name       850\n",
       "Product Category    850\n",
       "Region              850\n",
       "Sales Channel         0\n",
       "Units Sold            0\n",
       "Unit Price            0\n",
       "Order Notes           0\n",
       "Revenue               0\n",
       "dtype: int64"
      ]
     },
     "execution_count": 5,
     "metadata": {},
     "output_type": "execute_result"
    }
   ],
   "source": [
    "df.isnull().sum()"
   ]
  },
  {
   "cell_type": "code",
   "execution_count": 6,
   "id": "5cd16d55",
   "metadata": {},
   "outputs": [],
   "source": [
    "df['Customer Name'].fillna('Unknown', inplace=True)\n",
    "df['Product Category'].fillna('Unknown', inplace=True)\n",
    "df['Region'].fillna('Unknown', inplace=True)"
   ]
  },
  {
   "cell_type": "code",
   "execution_count": 7,
   "id": "cd82d5a2",
   "metadata": {},
   "outputs": [
    {
     "data": {
      "text/plain": [
       "Order ID            0\n",
       "Order Date          0\n",
       "Customer Name       0\n",
       "Product Category    0\n",
       "Region              0\n",
       "Sales Channel       0\n",
       "Units Sold          0\n",
       "Unit Price          0\n",
       "Order Notes         0\n",
       "Revenue             0\n",
       "dtype: int64"
      ]
     },
     "execution_count": 7,
     "metadata": {},
     "output_type": "execute_result"
    }
   ],
   "source": [
    "df.isnull().sum()"
   ]
  },
  {
   "cell_type": "markdown",
   "id": "dbc2b1a8",
   "metadata": {},
   "source": [
    "---"
   ]
  },
  {
   "cell_type": "code",
   "execution_count": 8,
   "id": "58ef6456",
   "metadata": {},
   "outputs": [],
   "source": [
    "df['Order Date']=pd.to_datetime(df['Order Date'])\n",
    "df['Month']=df['Order Date'].dt.to_period('M')"
   ]
  },
  {
   "cell_type": "code",
   "execution_count": 9,
   "id": "b4bccd88",
   "metadata": {},
   "outputs": [
    {
     "data": {
      "text/html": [
       "<div>\n",
       "<style scoped>\n",
       "    .dataframe tbody tr th:only-of-type {\n",
       "        vertical-align: middle;\n",
       "    }\n",
       "\n",
       "    .dataframe tbody tr th {\n",
       "        vertical-align: top;\n",
       "    }\n",
       "\n",
       "    .dataframe thead th {\n",
       "        text-align: right;\n",
       "    }\n",
       "</style>\n",
       "<table border=\"1\" class=\"dataframe\">\n",
       "  <thead>\n",
       "    <tr style=\"text-align: right;\">\n",
       "      <th></th>\n",
       "      <th>Order ID</th>\n",
       "      <th>Order Date</th>\n",
       "      <th>Customer Name</th>\n",
       "      <th>Product Category</th>\n",
       "      <th>Region</th>\n",
       "      <th>Sales Channel</th>\n",
       "      <th>Units Sold</th>\n",
       "      <th>Unit Price</th>\n",
       "      <th>Order Notes</th>\n",
       "      <th>Revenue</th>\n",
       "      <th>Month</th>\n",
       "    </tr>\n",
       "  </thead>\n",
       "  <tbody>\n",
       "    <tr>\n",
       "      <th>0</th>\n",
       "      <td>1</td>\n",
       "      <td>2023-01-31</td>\n",
       "      <td>Sarah Wright</td>\n",
       "      <td>Groceries</td>\n",
       "      <td>North</td>\n",
       "      <td>Wholesale</td>\n",
       "      <td>69</td>\n",
       "      <td>4143</td>\n",
       "      <td>Rich vote represent black three conference tru...</td>\n",
       "      <td>285867</td>\n",
       "      <td>2023-01</td>\n",
       "    </tr>\n",
       "    <tr>\n",
       "      <th>1</th>\n",
       "      <td>2</td>\n",
       "      <td>2023-12-30</td>\n",
       "      <td>Zoe Prince</td>\n",
       "      <td>Clothing</td>\n",
       "      <td>North</td>\n",
       "      <td>Online</td>\n",
       "      <td>54</td>\n",
       "      <td>2311</td>\n",
       "      <td>Today draw story Mrs few beyond thank serve sc...</td>\n",
       "      <td>124794</td>\n",
       "      <td>2023-12</td>\n",
       "    </tr>\n",
       "    <tr>\n",
       "      <th>2</th>\n",
       "      <td>3</td>\n",
       "      <td>2022-05-10</td>\n",
       "      <td>David Waters</td>\n",
       "      <td>Furniture</td>\n",
       "      <td>North</td>\n",
       "      <td>Wholesale</td>\n",
       "      <td>56</td>\n",
       "      <td>2685</td>\n",
       "      <td>Man control movement exist society according w...</td>\n",
       "      <td>150360</td>\n",
       "      <td>2022-05</td>\n",
       "    </tr>\n",
       "    <tr>\n",
       "      <th>3</th>\n",
       "      <td>4</td>\n",
       "      <td>2023-07-18</td>\n",
       "      <td>Keith Wilcox</td>\n",
       "      <td>Books</td>\n",
       "      <td>North</td>\n",
       "      <td>Retail</td>\n",
       "      <td>1</td>\n",
       "      <td>4391</td>\n",
       "      <td>Reach here oil receive piece able heavy reveal...</td>\n",
       "      <td>4391</td>\n",
       "      <td>2023-07</td>\n",
       "    </tr>\n",
       "  </tbody>\n",
       "</table>\n",
       "</div>"
      ],
      "text/plain": [
       "   Order ID Order Date Customer Name Product Category Region Sales Channel  \\\n",
       "0         1 2023-01-31  Sarah Wright        Groceries  North     Wholesale   \n",
       "1         2 2023-12-30    Zoe Prince         Clothing  North        Online   \n",
       "2         3 2022-05-10  David Waters        Furniture  North     Wholesale   \n",
       "3         4 2023-07-18  Keith Wilcox            Books  North        Retail   \n",
       "\n",
       "   Units Sold  Unit Price                                        Order Notes  \\\n",
       "0          69        4143  Rich vote represent black three conference tru...   \n",
       "1          54        2311  Today draw story Mrs few beyond thank serve sc...   \n",
       "2          56        2685  Man control movement exist society according w...   \n",
       "3           1        4391  Reach here oil receive piece able heavy reveal...   \n",
       "\n",
       "   Revenue    Month  \n",
       "0   285867  2023-01  \n",
       "1   124794  2023-12  \n",
       "2   150360  2022-05  \n",
       "3     4391  2023-07  "
      ]
     },
     "execution_count": 9,
     "metadata": {},
     "output_type": "execute_result"
    }
   ],
   "source": [
    "df.head(4)"
   ]
  },
  {
   "cell_type": "markdown",
   "id": "9f9105b8",
   "metadata": {},
   "source": [
    "---\n",
    "Revenue Trend over time"
   ]
  },
  {
   "cell_type": "code",
   "execution_count": 10,
   "id": "7ff15714",
   "metadata": {},
   "outputs": [],
   "source": [
    "monthly_revenue=df.groupby('Month')['Revenue'].sum().reset_index()"
   ]
  },
  {
   "cell_type": "code",
   "execution_count": 11,
   "id": "eed0a1ec",
   "metadata": {},
   "outputs": [],
   "source": [
    "monthly_revenue['Month']=monthly_revenue['Month'].dt.to_timestamp()"
   ]
  },
  {
   "cell_type": "code",
   "execution_count": 12,
   "id": "226a0636",
   "metadata": {},
   "outputs": [
    {
     "data": {
      "image/png": "[encoded data removed]",
      "text/plain": [
       "<Figure size 640x480 with 1 Axes>"
      ]
     },
     "metadata": {},
     "output_type": "display_data"
    }
   ],
   "source": [
    "plt.plot(monthly_revenue['Month'],monthly_revenue['Revenue'],marker='o')\n",
    "plt.xlabel('Month')\n",
    "plt.ylabel('Revenue')\n",
    "plt.title('Monthly Revenue Trend')\n",
    "plt.xticks(rotation=45)\n",
    "plt.tight_layout()\n",
    "plt.grid(True)\n",
    "plt.show()"
   ]
  },
  {
   "cell_type": "markdown",
   "id": "210c439b",
   "metadata": {},
   "source": [
    "---\n",
    "Region wise Revenue Contribution"
   ]
  },
  {
   "cell_type": "code",
   "execution_count": 13,
   "id": "6fc2d130",
   "metadata": {},
   "outputs": [
    {
     "data": {
      "image/png": "[encoded data removed]",
      "text/plain": [
       "<Figure size 800x600 with 1 Axes>"
      ]
     },
     "metadata": {},
     "output_type": "display_data"
    }
   ],
   "source": [
    "region_rev=df.groupby('Region')['Revenue'].sum().sort_values(ascending=False)\n",
    "plt.figure(figsize=(8,6))\n",
    "region_rev.plot(kind='bar',color='skyblue')\n",
    "plt.title('Total revenue by Region')\n",
    "plt.xlabel('Region')\n",
    "plt.ylabel('Revenue')\n",
    "plt.xticks(rotation=45)\n",
    "plt.tight_layout()\n",
    "plt.show()"
   ]
  },
  {
   "cell_type": "markdown",
   "id": "0f61ec4a",
   "metadata": {},
   "source": [
    "---\n",
    "Analytics - Product Category,Region and Time trends"
   ]
  },
  {
   "cell_type": "code",
   "execution_count": 17,
   "id": "d756d839",
   "metadata": {},
   "outputs": [],
   "source": [
    "top_products_by_region=df.groupby(['Region','Product Category'])['Revenue'].sum().reset_index()\n",
    "top_in_each_region=top_products_by_region.sort_values(by='Revenue',ascending=False).groupby('Region').first().reset_index()"
   ]
  },
  {
   "cell_type": "code",
   "execution_count": 18,
   "id": "b6038b03",
   "metadata": {},
   "outputs": [
    {
     "data": {
      "text/html": [
       "<div>\n",
       "<style scoped>\n",
       "    .dataframe tbody tr th:only-of-type {\n",
       "        vertical-align: middle;\n",
       "    }\n",
       "\n",
       "    .dataframe tbody tr th {\n",
       "        vertical-align: top;\n",
       "    }\n",
       "\n",
       "    .dataframe thead th {\n",
       "        text-align: right;\n",
       "    }\n",
       "</style>\n",
       "<table border=\"1\" class=\"dataframe\">\n",
       "  <thead>\n",
       "    <tr style=\"text-align: right;\">\n",
       "      <th></th>\n",
       "      <th>Region</th>\n",
       "      <th>Product Category</th>\n",
       "      <th>Revenue</th>\n",
       "    </tr>\n",
       "  </thead>\n",
       "  <tbody>\n",
       "    <tr>\n",
       "      <th>0</th>\n",
       "      <td>East</td>\n",
       "      <td>Toys</td>\n",
       "      <td>381612453</td>\n",
       "    </tr>\n",
       "    <tr>\n",
       "      <th>1</th>\n",
       "      <td>North</td>\n",
       "      <td>Groceries</td>\n",
       "      <td>385422231</td>\n",
       "    </tr>\n",
       "    <tr>\n",
       "      <th>2</th>\n",
       "      <td>South</td>\n",
       "      <td>Clothing</td>\n",
       "      <td>393152247</td>\n",
       "    </tr>\n",
       "    <tr>\n",
       "      <th>3</th>\n",
       "      <td>Unknown</td>\n",
       "      <td>Groceries</td>\n",
       "      <td>15500244</td>\n",
       "    </tr>\n",
       "    <tr>\n",
       "      <th>4</th>\n",
       "      <td>West</td>\n",
       "      <td>Electronics</td>\n",
       "      <td>397982457</td>\n",
       "    </tr>\n",
       "  </tbody>\n",
       "</table>\n",
       "</div>"
      ],
      "text/plain": [
       "    Region Product Category    Revenue\n",
       "0     East             Toys  381612453\n",
       "1    North        Groceries  385422231\n",
       "2    South         Clothing  393152247\n",
       "3  Unknown        Groceries   15500244\n",
       "4     West      Electronics  397982457"
      ]
     },
     "execution_count": 18,
     "metadata": {},
     "output_type": "execute_result"
    }
   ],
   "source": [
    "top_in_each_region"
   ]
  },
  {
   "cell_type": "markdown",
   "id": "23d751cf",
   "metadata": {},
   "source": [
    "---\n",
    "Quaterly Sales"
   ]
  },
  {
   "cell_type": "code",
   "execution_count": 20,
   "id": "233df047",
   "metadata": {},
   "outputs": [],
   "source": [
    "df['Quarter']=df['Order Date'].dt.to_period('Q')\n",
    "quarterly_trend=df.groupby(['Quarter','Region'])['Revenue'].sum().unstack().fillna(0)"
   ]
  },
  {
   "cell_type": "code",
   "execution_count": 21,
   "id": "c1ae7c99",
   "metadata": {},
   "outputs": [
    {
     "data": {
      "text/html": [
       "<div>\n",
       "<style scoped>\n",
       "    .dataframe tbody tr th:only-of-type {\n",
       "        vertical-align: middle;\n",
       "    }\n",
       "\n",
       "    .dataframe tbody tr th {\n",
       "        vertical-align: top;\n",
       "    }\n",
       "\n",
       "    .dataframe thead th {\n",
       "        text-align: right;\n",
       "    }\n",
       "</style>\n",
       "<table border=\"1\" class=\"dataframe\">\n",
       "  <thead>\n",
       "    <tr style=\"text-align: right;\">\n",
       "      <th>Region</th>\n",
       "      <th>East</th>\n",
       "      <th>North</th>\n",
       "      <th>South</th>\n",
       "      <th>Unknown</th>\n",
       "      <th>West</th>\n",
       "    </tr>\n",
       "    <tr>\n",
       "      <th>Quarter</th>\n",
       "      <th></th>\n",
       "      <th></th>\n",
       "      <th></th>\n",
       "      <th></th>\n",
       "      <th></th>\n",
       "    </tr>\n",
       "  </thead>\n",
       "  <tbody>\n",
       "    <tr>\n",
       "      <th>2020Q1</th>\n",
       "      <td>133224975</td>\n",
       "      <td>148929754</td>\n",
       "      <td>141427303</td>\n",
       "      <td>4488214</td>\n",
       "      <td>145456889</td>\n",
       "    </tr>\n",
       "    <tr>\n",
       "      <th>2020Q2</th>\n",
       "      <td>150691462</td>\n",
       "      <td>143618884</td>\n",
       "      <td>136768700</td>\n",
       "      <td>6637649</td>\n",
       "      <td>142980085</td>\n",
       "    </tr>\n",
       "    <tr>\n",
       "      <th>2020Q3</th>\n",
       "      <td>144777013</td>\n",
       "      <td>145987980</td>\n",
       "      <td>157952388</td>\n",
       "      <td>5924642</td>\n",
       "      <td>151706724</td>\n",
       "    </tr>\n",
       "    <tr>\n",
       "      <th>2020Q4</th>\n",
       "      <td>149657680</td>\n",
       "      <td>139308821</td>\n",
       "      <td>152093829</td>\n",
       "      <td>5657739</td>\n",
       "      <td>150472554</td>\n",
       "    </tr>\n",
       "    <tr>\n",
       "      <th>2021Q1</th>\n",
       "      <td>138093228</td>\n",
       "      <td>143262437</td>\n",
       "      <td>152814329</td>\n",
       "      <td>6701981</td>\n",
       "      <td>150486991</td>\n",
       "    </tr>\n",
       "    <tr>\n",
       "      <th>2021Q2</th>\n",
       "      <td>143904885</td>\n",
       "      <td>139962273</td>\n",
       "      <td>146606613</td>\n",
       "      <td>6301239</td>\n",
       "      <td>150921603</td>\n",
       "    </tr>\n",
       "    <tr>\n",
       "      <th>2021Q3</th>\n",
       "      <td>149617871</td>\n",
       "      <td>145434216</td>\n",
       "      <td>157179554</td>\n",
       "      <td>5311290</td>\n",
       "      <td>154349328</td>\n",
       "    </tr>\n",
       "    <tr>\n",
       "      <th>2021Q4</th>\n",
       "      <td>136476345</td>\n",
       "      <td>138832621</td>\n",
       "      <td>152315674</td>\n",
       "      <td>5822018</td>\n",
       "      <td>140852670</td>\n",
       "    </tr>\n",
       "    <tr>\n",
       "      <th>2022Q1</th>\n",
       "      <td>135091526</td>\n",
       "      <td>148503457</td>\n",
       "      <td>147193959</td>\n",
       "      <td>5274898</td>\n",
       "      <td>156004613</td>\n",
       "    </tr>\n",
       "    <tr>\n",
       "      <th>2022Q2</th>\n",
       "      <td>149606519</td>\n",
       "      <td>148556422</td>\n",
       "      <td>144729838</td>\n",
       "      <td>5198466</td>\n",
       "      <td>145733338</td>\n",
       "    </tr>\n",
       "    <tr>\n",
       "      <th>2022Q3</th>\n",
       "      <td>145471877</td>\n",
       "      <td>155642749</td>\n",
       "      <td>149680421</td>\n",
       "      <td>7179445</td>\n",
       "      <td>153959650</td>\n",
       "    </tr>\n",
       "    <tr>\n",
       "      <th>2022Q4</th>\n",
       "      <td>151153820</td>\n",
       "      <td>145120233</td>\n",
       "      <td>151551141</td>\n",
       "      <td>4458552</td>\n",
       "      <td>150901041</td>\n",
       "    </tr>\n",
       "    <tr>\n",
       "      <th>2023Q1</th>\n",
       "      <td>146371480</td>\n",
       "      <td>144753082</td>\n",
       "      <td>148628385</td>\n",
       "      <td>6689041</td>\n",
       "      <td>143031654</td>\n",
       "    </tr>\n",
       "    <tr>\n",
       "      <th>2023Q2</th>\n",
       "      <td>144372055</td>\n",
       "      <td>140008356</td>\n",
       "      <td>154755225</td>\n",
       "      <td>4138397</td>\n",
       "      <td>146083867</td>\n",
       "    </tr>\n",
       "    <tr>\n",
       "      <th>2023Q3</th>\n",
       "      <td>155799664</td>\n",
       "      <td>156082766</td>\n",
       "      <td>148702485</td>\n",
       "      <td>5843462</td>\n",
       "      <td>147989704</td>\n",
       "    </tr>\n",
       "    <tr>\n",
       "      <th>2023Q4</th>\n",
       "      <td>154864375</td>\n",
       "      <td>146909043</td>\n",
       "      <td>143306403</td>\n",
       "      <td>4602676</td>\n",
       "      <td>150052762</td>\n",
       "    </tr>\n",
       "    <tr>\n",
       "      <th>2024Q1</th>\n",
       "      <td>148934877</td>\n",
       "      <td>153407959</td>\n",
       "      <td>146724800</td>\n",
       "      <td>7942805</td>\n",
       "      <td>145545021</td>\n",
       "    </tr>\n",
       "    <tr>\n",
       "      <th>2024Q2</th>\n",
       "      <td>138609375</td>\n",
       "      <td>154849209</td>\n",
       "      <td>144813116</td>\n",
       "      <td>6219923</td>\n",
       "      <td>154794936</td>\n",
       "    </tr>\n",
       "  </tbody>\n",
       "</table>\n",
       "</div>"
      ],
      "text/plain": [
       "Region        East      North      South  Unknown       West\n",
       "Quarter                                                     \n",
       "2020Q1   133224975  148929754  141427303  4488214  145456889\n",
       "2020Q2   150691462  143618884  136768700  6637649  142980085\n",
       "2020Q3   144777013  145987980  157952388  5924642  151706724\n",
       "2020Q4   149657680  139308821  152093829  5657739  150472554\n",
       "2021Q1   138093228  143262437  152814329  6701981  150486991\n",
       "2021Q2   143904885  139962273  146606613  6301239  150921603\n",
       "2021Q3   149617871  145434216  157179554  5311290  154349328\n",
       "2021Q4   136476345  138832621  152315674  5822018  140852670\n",
       "2022Q1   135091526  148503457  147193959  5274898  156004613\n",
       "2022Q2   149606519  148556422  144729838  5198466  145733338\n",
       "2022Q3   145471877  155642749  149680421  7179445  153959650\n",
       "2022Q4   151153820  145120233  151551141  4458552  150901041\n",
       "2023Q1   146371480  144753082  148628385  6689041  143031654\n",
       "2023Q2   144372055  140008356  154755225  4138397  146083867\n",
       "2023Q3   155799664  156082766  148702485  5843462  147989704\n",
       "2023Q4   154864375  146909043  143306403  4602676  150052762\n",
       "2024Q1   148934877  153407959  146724800  7942805  145545021\n",
       "2024Q2   138609375  154849209  144813116  6219923  154794936"
      ]
     },
     "execution_count": 21,
     "metadata": {},
     "output_type": "execute_result"
    }
   ],
   "source": [
    "quarterly_trend"
   ]
  },
  {
   "cell_type": "code",
   "execution_count": 22,
   "id": "1618d8d2",
   "metadata": {},
   "outputs": [
    {
     "data": {
      "image/png": "[encoded data removed]",
      "text/plain": [
       "<Figure size 1200x600 with 1 Axes>"
      ]
     },
     "metadata": {},
     "output_type": "display_data"
    }
   ],
   "source": [
    "quarterly_trend.plot(kind='bar',stacked=True,figsize=(12,6))\n",
    "plt.title('Quarterly Sales Trend by Region')\n",
    "plt.xlabel('Quarter')\n",
    "plt.ylabel('Revenue')\n",
    "plt.xticks(rotation=45)\n",
    "plt.tight_layout()\n",
    "plt.legend()\n",
    "plt.show()"
   ]
  },
  {
   "cell_type": "markdown",
   "id": "b6e1b696",
   "metadata": {},
   "source": [
    "---\n",
    "import text Data"
   ]
  },
  {
   "cell_type": "code",
   "execution_count": null,
   "id": "9b9c2769",
   "metadata": {},
   "outputs": [],
   "source": [
    "with open('market_trends_extended.txt','r') as f:\n",
    "  market_text=f.read()\n",
    "  print(market_text)"
   ]
  },
  {
   "cell_type": "markdown",
   "id": "a3640a7a",
   "metadata": {},
   "source": [
    "---\n",
    "import PDF data"
   ]
  },
  {
   "cell_type": "code",
   "execution_count": null,
   "id": "669401d0",
   "metadata": {},
   "outputs": [],
   "source": [
    "reader=PyPDF2.PdfReader('board_meeting_summary_long.pdf')\n",
    "pdf_text=''\n",
    "for page in reader.pages:\n",
    "  pdf_text+=page.extract_text()\n",
    "\n",
    "print(pdf_text)"
   ]
  },
  {
   "cell_type": "markdown",
   "id": "95511b0c",
   "metadata": {},
   "source": [
    "---\n",
    "Building Bot using Gemini"
   ]
  },
  {
   "cell_type": "code",
   "execution_count": null,
   "id": "efea22bd",
   "metadata": {},
   "outputs": [],
   "source": []
  }
 ],
 "metadata": {
  "kernelspec": {
   "display_name": "base",
   "language": "python",
   "name": "python3"
  },
  "language_info": {
   "codemirror_mode": {
    "name": "ipython",
    "version": 3
   },
   "file_extension": ".py",
   "mimetype": "text/x-python",
   "name": "python",
   "nbconvert_exporter": "python",
   "pygments_lexer": "ipython3",
   "version": "3.12.4"
  }
 },
 "nbformat": 4,
 "nbformat_minor": 5
}
