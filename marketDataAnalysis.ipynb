{
 "cells": [
  {
   "cell_type": "markdown",
   "id": "944f67d2",
   "metadata": {},
   "source": [
    "## Objective\n",
    "\n",
    " Accepts user questions in natural language.\n",
    "\n",
    "- Parses and understands data from a messy 85,000+ row dataset.\n",
    "\n",
    "- Reads additional context from board meeting PDF and market summary TXT.\n",
    "\n",
    "- Uses Gemini to generate business insights from combined data sources.\n",
    "\n",
    "- Deploys the chatbot using Streamlit locally or on the web."
   ]
  },
  {
   "cell_type": "markdown",
   "id": "a1df511e",
   "metadata": {},
   "source": [
    "---\n",
    "**Import Libraries**"
   ]
  },
  {
   "cell_type": "code",
   "execution_count": 27,
   "id": "233a5246",
   "metadata": {},
   "outputs": [],
   "source": [
    "import pandas as pd\n",
    "import numpy as np\n",
    "from datetime import datetime\n",
    "import PyPDF2\n",
    "import matplotlib.pyplot as plt\n",
    "import matplotlib.dates as mdates\n",
    "import seaborn as sns\n",
    "from pathlib import Path\n",
    "import warnings\n",
    "warnings.filterwarnings(\"ignore\")"
   ]
  },
  {
   "cell_type": "markdown",
   "id": "a0587479",
   "metadata": {},
   "source": [
    "---\n",
    "**Load Dataset**"
   ]
  },
  {
   "cell_type": "code",
   "execution_count": 14,
   "id": "93a22f45",
   "metadata": {},
   "outputs": [
    {
     "data": {
      "text/html": [
       "<div>\n",
       "<style scoped>\n",
       "    .dataframe tbody tr th:only-of-type {\n",
       "        vertical-align: middle;\n",
       "    }\n",
       "\n",
       "    .dataframe tbody tr th {\n",
       "        vertical-align: top;\n",
       "    }\n",
       "\n",
       "    .dataframe thead th {\n",
       "        text-align: right;\n",
       "    }\n",
       "</style>\n",
       "<table border=\"1\" class=\"dataframe\">\n",
       "  <thead>\n",
       "    <tr style=\"text-align: right;\">\n",
       "      <th></th>\n",
       "      <th>Order ID</th>\n",
       "      <th>Order Date</th>\n",
       "      <th>Customer Name</th>\n",
       "      <th>Product Category</th>\n",
       "      <th>Region</th>\n",
       "      <th>Sales Channel</th>\n",
       "      <th>Units Sold</th>\n",
       "      <th>Unit Price</th>\n",
       "      <th>Order Notes</th>\n",
       "      <th>Revenue</th>\n",
       "    </tr>\n",
       "  </thead>\n",
       "  <tbody>\n",
       "    <tr>\n",
       "      <th>0</th>\n",
       "      <td>1</td>\n",
       "      <td>2023-01-31</td>\n",
       "      <td>Sarah Wright</td>\n",
       "      <td>Groceries</td>\n",
       "      <td>North</td>\n",
       "      <td>Wholesale</td>\n",
       "      <td>69</td>\n",
       "      <td>4143</td>\n",
       "      <td>Rich vote represent black three conference tru...</td>\n",
       "      <td>285867</td>\n",
       "    </tr>\n",
       "    <tr>\n",
       "      <th>1</th>\n",
       "      <td>2</td>\n",
       "      <td>2023-12-30</td>\n",
       "      <td>Zoe Prince</td>\n",
       "      <td>Clothing</td>\n",
       "      <td>North</td>\n",
       "      <td>Online</td>\n",
       "      <td>54</td>\n",
       "      <td>2311</td>\n",
       "      <td>Today draw story Mrs few beyond thank serve sc...</td>\n",
       "      <td>124794</td>\n",
       "    </tr>\n",
       "    <tr>\n",
       "      <th>2</th>\n",
       "      <td>3</td>\n",
       "      <td>2022-05-10</td>\n",
       "      <td>David Waters</td>\n",
       "      <td>Furniture</td>\n",
       "      <td>North</td>\n",
       "      <td>Wholesale</td>\n",
       "      <td>56</td>\n",
       "      <td>2685</td>\n",
       "      <td>Man control movement exist society according w...</td>\n",
       "      <td>150360</td>\n",
       "    </tr>\n",
       "    <tr>\n",
       "      <th>3</th>\n",
       "      <td>4</td>\n",
       "      <td>2023-07-18</td>\n",
       "      <td>Keith Wilcox</td>\n",
       "      <td>Books</td>\n",
       "      <td>North</td>\n",
       "      <td>Retail</td>\n",
       "      <td>1</td>\n",
       "      <td>4391</td>\n",
       "      <td>Reach here oil receive piece able heavy reveal...</td>\n",
       "      <td>4391</td>\n",
       "    </tr>\n",
       "    <tr>\n",
       "      <th>4</th>\n",
       "      <td>5</td>\n",
       "      <td>2023-02-04</td>\n",
       "      <td>Robert Lester</td>\n",
       "      <td>Clothing</td>\n",
       "      <td>West</td>\n",
       "      <td>Online</td>\n",
       "      <td>59</td>\n",
       "      <td>1421</td>\n",
       "      <td>Right quality bill money idea city bit.</td>\n",
       "      <td>83839</td>\n",
       "    </tr>\n",
       "  </tbody>\n",
       "</table>\n",
       "</div>"
      ],
      "text/plain": [
       "   Order ID  Order Date  Customer Name Product Category Region Sales Channel  \\\n",
       "0         1  2023-01-31   Sarah Wright        Groceries  North     Wholesale   \n",
       "1         2  2023-12-30     Zoe Prince         Clothing  North        Online   \n",
       "2         3  2022-05-10   David Waters        Furniture  North     Wholesale   \n",
       "3         4  2023-07-18   Keith Wilcox            Books  North        Retail   \n",
       "4         5  2023-02-04  Robert Lester         Clothing   West        Online   \n",
       "\n",
       "   Units Sold  Unit Price                                        Order Notes  \\\n",
       "0          69        4143  Rich vote represent black three conference tru...   \n",
       "1          54        2311  Today draw story Mrs few beyond thank serve sc...   \n",
       "2          56        2685  Man control movement exist society according w...   \n",
       "3           1        4391  Reach here oil receive piece able heavy reveal...   \n",
       "4          59        1421            Right quality bill money idea city bit.   \n",
       "\n",
       "   Revenue  \n",
       "0   285867  \n",
       "1   124794  \n",
       "2   150360  \n",
       "3     4391  \n",
       "4    83839  "
      ]
     },
     "execution_count": 14,
     "metadata": {},
     "output_type": "execute_result"
    }
   ],
   "source": [
    "df=pd.read_csv('customer_orders.csv')\n",
    "df.head()"
   ]
  },
  {
   "cell_type": "code",
   "execution_count": 15,
   "id": "9b9a86ce",
   "metadata": {},
   "outputs": [
    {
     "name": "stdout",
     "output_type": "stream",
     "text": [
      "<class 'pandas.core.frame.DataFrame'>\n",
      "RangeIndex: 85000 entries, 0 to 84999\n",
      "Data columns (total 10 columns):\n",
      " #   Column            Non-Null Count  Dtype \n",
      "---  ------            --------------  ----- \n",
      " 0   Order ID          85000 non-null  int64 \n",
      " 1   Order Date        85000 non-null  object\n",
      " 2   Customer Name     84150 non-null  object\n",
      " 3   Product Category  84150 non-null  object\n",
      " 4   Region            84150 non-null  object\n",
      " 5   Sales Channel     85000 non-null  object\n",
      " 6   Units Sold        85000 non-null  int64 \n",
      " 7   Unit Price        85000 non-null  int64 \n",
      " 8   Order Notes       85000 non-null  object\n",
      " 9   Revenue           85000 non-null  int64 \n",
      "dtypes: int64(4), object(6)\n",
      "memory usage: 6.5+ MB\n"
     ]
    }
   ],
   "source": [
    "df.info()"
   ]
  },
  {
   "cell_type": "code",
   "execution_count": 16,
   "id": "62b41f9b",
   "metadata": {},
   "outputs": [
    {
     "data": {
      "text/plain": [
       "(85000, 10)"
      ]
     },
     "execution_count": 16,
     "metadata": {},
     "output_type": "execute_result"
    }
   ],
   "source": [
    "df.shape"
   ]
  },
  {
   "cell_type": "markdown",
   "id": "ce0cdf50",
   "metadata": {},
   "source": [
    "---\n",
    "**Handling missing values**"
   ]
  },
  {
   "cell_type": "code",
   "execution_count": 29,
   "id": "7dcf8b21",
   "metadata": {},
   "outputs": [
    {
     "data": {
      "text/plain": [
       "Order ID            0\n",
       "Order Date          0\n",
       "Customer Name       0\n",
       "Product Category    0\n",
       "Region              0\n",
       "Sales Channel       0\n",
       "Units Sold          0\n",
       "Unit Price          0\n",
       "Order Notes         0\n",
       "Revenue             0\n",
       "Month               0\n",
       "dtype: int64"
      ]
     },
     "execution_count": 29,
     "metadata": {},
     "output_type": "execute_result"
    }
   ],
   "source": [
    "df.isnull().sum()"
   ]
  },
  {
   "cell_type": "code",
   "execution_count": 30,
   "id": "5cd16d55",
   "metadata": {},
   "outputs": [],
   "source": [
    "df[['Customer Name', 'Product Category', 'Region']] = df[['Customer Name', 'Product Category', 'Region']].fillna('Unknown')"
   ]
  },
  {
   "cell_type": "code",
   "execution_count": 31,
   "id": "cd82d5a2",
   "metadata": {},
   "outputs": [
    {
     "data": {
      "text/plain": [
       "Order ID            0\n",
       "Order Date          0\n",
       "Customer Name       0\n",
       "Product Category    0\n",
       "Region              0\n",
       "Sales Channel       0\n",
       "Units Sold          0\n",
       "Unit Price          0\n",
       "Order Notes         0\n",
       "Revenue             0\n",
       "Month               0\n",
       "dtype: int64"
      ]
     },
     "execution_count": 31,
     "metadata": {},
     "output_type": "execute_result"
    }
   ],
   "source": [
    "df.isnull().sum()"
   ]
  },
  {
   "cell_type": "markdown",
   "id": "dbc2b1a8",
   "metadata": {},
   "source": [
    "---"
   ]
  },
  {
   "cell_type": "code",
   "execution_count": 32,
   "id": "58ef6456",
   "metadata": {},
   "outputs": [],
   "source": [
    "df['Order Date']=pd.to_datetime(df['Order Date'])\n",
    "df['Month']=df['Order Date'].dt.to_period('M')"
   ]
  },
  {
   "cell_type": "code",
   "execution_count": null,
   "id": "7ff15714",
   "metadata": {},
   "outputs": [],
   "source": []
  }
 ],
 "metadata": {
  "kernelspec": {
   "display_name": "base",
   "language": "python",
   "name": "python3"
  },
  "language_info": {
   "codemirror_mode": {
    "name": "ipython",
    "version": 3
   },
   "file_extension": ".py",
   "mimetype": "text/x-python",
   "name": "python",
   "nbconvert_exporter": "python",
   "pygments_lexer": "ipython3",
   "version": "3.12.4"
  }
 },
 "nbformat": 4,
 "nbformat_minor": 5
}
